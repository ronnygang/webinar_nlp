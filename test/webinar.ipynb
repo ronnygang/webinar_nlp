{
 "cells": [
  {
   "cell_type": "markdown",
   "metadata": {},
   "source": [
    "**Librería google-cloud-language para realizar diferentes tipos de análisis de texto con la API de Google Cloud Natural Language**"
   ]
  },
  {
   "cell_type": "code",
   "execution_count": null,
   "metadata": {},
   "outputs": [],
   "source": [
    "!pip install google-cloud-language"
   ]
  },
  {
   "cell_type": "markdown",
   "metadata": {},
   "source": [
    "***Análisis de Sentimiento:***"
   ]
  },
  {
   "cell_type": "code",
   "execution_count": 2,
   "metadata": {},
   "outputs": [
    {
     "name": "stdout",
     "output_type": "stream",
     "text": [
      "Text: Google Cloud Natural Language API is amazing!\n",
      "Sentiment: 0.8999999761581421, 0.8999999761581421\n"
     ]
    }
   ],
   "source": [
    "from google.cloud import language_v1\n",
    "\n",
    "def analyze_sentiment(text):\n",
    "    client = language_v1.LanguageServiceClient()\n",
    "    document = language_v1.Document(content=text, type_=language_v1.Document.Type.PLAIN_TEXT)\n",
    "    response = client.analyze_sentiment(document=document)\n",
    "    sentiment = response.document_sentiment\n",
    "    print(f\"Text: {text}\")\n",
    "    print(f\"Sentiment: {sentiment.score}, {sentiment.magnitude}\")\n",
    "\n",
    "analyze_sentiment(\"Google Cloud Natural Language API is amazing!\")"
   ]
  },
  {
   "cell_type": "markdown",
   "metadata": {},
   "source": [
    "### Resultados y su interpretación\n",
    "\n",
    "La respuesta del análisis de sentimiento incluye dos valores clave:\n",
    "\n",
    "#### Sentiment Score (Puntuación de Sentimiento):\n",
    "\n",
    "- **Rango:** de -1.0 a 1.0\n",
    "- **Interpretación:**\n",
    "  - Valores cercanos a -1.0 indican un sentimiento muy negativo.\n",
    "  - Valores cercanos a 1.0 indican un sentimiento muy positivo.\n",
    "  - Valores cercanos a 0 indican un sentimiento neutral.\n",
    "  - Por ejemplo, una puntuación de 0.8 sugiere que el texto tiene un sentimiento positivo fuerte.\n",
    "\n",
    "#### Sentiment Magnitude (Magnitud del Sentimiento):\n",
    "\n",
    "- **Rango:** 0.0 e infinito (en la práctica, generalmente es un número positivo bajo)\n",
    "- **Interpretación:**\n",
    "  - Indica la fuerza del sentimiento expresado en el texto.\n",
    "  - Un valor más alto sugiere una expresión emocional más fuerte, sin importar si es positivo o negativo.\n",
    "  - Por ejemplo, una magnitud de 2.0 indica que el texto contiene una expresión emocional significativa.\n"
   ]
  },
  {
   "cell_type": "markdown",
   "metadata": {},
   "source": [
    "***Análisis de Entidades:***"
   ]
  },
  {
   "cell_type": "code",
   "execution_count": 3,
   "metadata": {},
   "outputs": [
    {
     "name": "stdout",
     "output_type": "stream",
     "text": [
      "Entity: Google Cloud Platform, Type: 7, Salience: 0.47089263796806335\n",
      "Entity: services, Type: 7, Salience: 0.3217708468437195\n",
      "Entity: BigQuery, Type: 7, Salience: 0.14304405450820923\n",
      "Entity: Compute Engine, Type: 7, Salience: 0.06429243832826614\n"
     ]
    }
   ],
   "source": [
    "from google.cloud import language_v1\n",
    "\n",
    "def analyze_entities(text):\n",
    "    client = language_v1.LanguageServiceClient()\n",
    "    document = language_v1.Document(content=text, type_=language_v1.Document.Type.PLAIN_TEXT)\n",
    "    response = client.analyze_entities(document=document)\n",
    "    for entity in response.entities:\n",
    "        print(f\"Entity: {entity.name}, Type: {entity.type_}, Salience: {entity.salience}\")\n",
    "\n",
    "analyze_entities(\"Google Cloud Platform offers various services like Compute Engine and BigQuery.\")"
   ]
  },
  {
   "cell_type": "markdown",
   "metadata": {},
   "source": [
    "### Resultados y su interpretación\n",
    "\n",
    "La respuesta del análisis de entidades incluye varios valores clave para cada entidad identificada:\n",
    "\n",
    "#### Entity (Entidad):\n",
    "\n",
    "- **Definición:** Una entidad es una palabra o frase que representa un objeto, persona, organización, ubicación, evento, etc., en el texto.\n",
    "\n",
    "#### Type (Tipo):\n",
    "\n",
    "- **Rango:** Los tipos de entidades pueden incluir, pero no están limitados a:\n",
    "  - `PERSON` (Persona)\n",
    "  - `LOCATION` (Ubicación)\n",
    "  - `ORGANIZATION` (Organización)\n",
    "  - `EVENT` (Evento)\n",
    "  - `WORK_OF_ART` (Obra de arte)\n",
    "  - `CONSUMER_GOOD` (Bien de consumo)\n",
    "  - `OTHER` (Otro)\n",
    "- **Interpretación:** El tipo clasifica la entidad identificada en una categoría específica.\n",
    "\n",
    "#### Salience (Relevancia):\n",
    "\n",
    "- **Rango:** de 0.0 a 1.0\n",
    "- **Interpretación:**\n",
    "  - Indica la importancia de la entidad en el contexto del texto.\n",
    "  - Valores más cercanos a 1.0 indican que la entidad es muy relevante para el contenido del texto.\n",
    "  - Por ejemplo, una relevancia de 0.8 sugiere que la entidad es altamente relevante dentro del texto.\n",
    "\n"
   ]
  },
  {
   "cell_type": "markdown",
   "metadata": {},
   "source": [
    "***Análisis de Sintaxis:***"
   ]
  },
  {
   "cell_type": "code",
   "execution_count": 4,
   "metadata": {},
   "outputs": [
    {
     "name": "stdout",
     "output_type": "stream",
     "text": [
      "Token: Python, Part of Speech: NOUN\n",
      "Token: is, Part of Speech: VERB\n",
      "Token: an, Part of Speech: DET\n",
      "Token: amazing, Part of Speech: ADJ\n",
      "Token: programming, Part of Speech: NOUN\n",
      "Token: language, Part of Speech: NOUN\n",
      "Token: ., Part of Speech: PUNCT\n"
     ]
    }
   ],
   "source": [
    "from google.cloud import language_v1\n",
    "\n",
    "def analyze_syntax(text):\n",
    "    client = language_v1.LanguageServiceClient()\n",
    "    document = language_v1.Document(content=text, type_=language_v1.Document.Type.PLAIN_TEXT)\n",
    "    response = client.analyze_syntax(document=document)\n",
    "    for token in response.tokens:\n",
    "        print(f\"Token: {token.text.content}, Part of Speech: {token.part_of_speech.tag.name}\")\n",
    "\n",
    "analyze_syntax(\"Python is an amazing programming language.\")"
   ]
  },
  {
   "cell_type": "markdown",
   "metadata": {},
   "source": [
    "### Resultados y su interpretación\n",
    "\n",
    "La respuesta del análisis sintáctico incluye varios valores clave para cada token (palabra) identificado en el texto:\n",
    "\n",
    "#### Token (Token):\n",
    "\n",
    "- **Definición:** Un token es una secuencia de caracteres en el texto que representa una palabra o un signo de puntuación.\n",
    "\n",
    "#### Part of Speech (Parte del habla):\n",
    "\n",
    "- **Rango:** Las partes del habla pueden incluir, pero no están limitadas a:\n",
    "  - `NOUN` (Sustantivo)\n",
    "  - `VERB` (Verbo)\n",
    "  - `ADJ` (Adjetivo)\n",
    "  - `ADV` (Adverbio)\n",
    "  - `PRON` (Pronombre)\n",
    "  - `DET` (Determinante)\n",
    "  - `ADP` (Adposición)\n",
    "  - `CONJ` (Conjunción)\n",
    "  - `PRT` (Partícula)\n",
    "  - `PUNCT` (Puntuación)\n",
    "  - `X` (Otro)\n",
    "  - `AFFIX` (Afijo)\n",
    "- **Interpretación:** La parte del habla clasifica el rol gramatical de cada token en la oración."
   ]
  },
  {
   "cell_type": "markdown",
   "metadata": {},
   "source": [
    "***Clasificación de Texto:***"
   ]
  },
  {
   "cell_type": "code",
   "execution_count": 6,
   "metadata": {},
   "outputs": [
    {
     "name": "stdout",
     "output_type": "stream",
     "text": [
      "Category: /Computers & Electronics/Programming, Confidence: 0.9900000095367432\n",
      "Category: /Science/Computer Science, Confidence: 0.9900000095367432\n"
     ]
    }
   ],
   "source": [
    "from google.cloud import language_v1\n",
    "\n",
    "def classify_text(text):\n",
    "    client = language_v1.LanguageServiceClient()\n",
    "    document = language_v1.Document(content=text, type_=language_v1.Document.Type.PLAIN_TEXT)\n",
    "    response = client.classify_text(document=document)\n",
    "    for category in response.categories:\n",
    "        print(f\"Category: {category.name}, Confidence: {category.confidence}\")\n",
    "\n",
    "classify_text(\"Python is an interpreted, object-oriented, high-level programming language with dynamic semantics. Its high-level built in data structures, combined with dynamic typing and dynamic binding, make it very attractive for Rapid Application Development, as well as for use as a scripting or glue language to connect existing components together. Python's simple, easy to learn syntax emphasizes readability and therefore reduces the cost of program maintenance. Python supports modules and packages, which encourages program modularity and code reuse. The Python interpreter and the extensive standard library are available in source or binary form without charge for all major platforms, and can be freely distributed.\")"
   ]
  },
  {
   "cell_type": "markdown",
   "metadata": {},
   "source": [
    "### Resultados y su interpretación\n",
    "\n",
    "La respuesta de la clasificación de texto incluye varios valores clave para cada categoría identificada en el texto:\n",
    "\n",
    "#### Category (Categoría):\n",
    "\n",
    "- **Definición:** Una categoría representa un área temática o un tema específico al que el texto pertenece.\n",
    "\n",
    "#### Confidence (Confianza):\n",
    "\n",
    "- **Rango:** de 0.0 a 1.0\n",
    "- **Interpretación:**\n",
    "  - Indica la confianza del modelo en que el texto pertenece a la categoría especificada.\n",
    "  - Valores más cercanos a 1.0 indican una alta confianza.\n",
    "  - Por ejemplo, una confianza de 0.85 sugiere que el modelo está muy seguro de que el texto pertenece a esa categoría."
   ]
  },
  {
   "cell_type": "markdown",
   "metadata": {},
   "source": [
    "***Extracción de Entidades con Análisis de Sentimiento:***"
   ]
  },
  {
   "cell_type": "code",
   "execution_count": 7,
   "metadata": {},
   "outputs": [
    {
     "name": "stdout",
     "output_type": "stream",
     "text": [
      "Entity: features, Sentiment: 0.6000000238418579\n",
      "Entity: Google Cloud, Sentiment: 0.5\n",
      "Entity: pricing, Sentiment: 0.4000000059604645\n"
     ]
    }
   ],
   "source": [
    "from google.cloud import language_v1\n",
    "\n",
    "def entity_sentiment_analysis(text):\n",
    "    client = language_v1.LanguageServiceClient()\n",
    "    document = language_v1.Document(content=text, type_=language_v1.Document.Type.PLAIN_TEXT)\n",
    "    response = client.analyze_entity_sentiment(document=document)\n",
    "    for entity in response.entities:\n",
    "        print(f\"Entity: {entity.name}, Sentiment: {entity.sentiment.score}\")\n",
    "\n",
    "entity_sentiment_analysis(\"I love the new features in Google Cloud, but the pricing could be better.\")"
   ]
  },
  {
   "cell_type": "markdown",
   "metadata": {},
   "source": [
    "### Resultados y su interpretación\n",
    "\n",
    "La respuesta del análisis de sentimiento de entidades incluye varios valores clave para cada entidad identificada en el texto:\n",
    "\n",
    "#### Entity (Entidad):\n",
    "\n",
    "- **Definición:** Una entidad es una palabra o frase que representa un objeto, persona, organización, ubicación, evento, etc., en el texto.\n",
    "\n",
    "#### Sentiment (Sentimiento):\n",
    "\n",
    "- **Rango:** de -1.0 a 1.0\n",
    "- **Interpretación:**\n",
    "  - Valores cercanos a -1.0 indican un sentimiento muy negativo hacia la entidad.\n",
    "  - Valores cercanos a 1.0 indican un sentimiento muy positivo hacia la entidad.\n",
    "  - Valores cercanos a 0 indican un sentimiento neutral hacia la entidad.\n",
    "  - Por ejemplo, una puntuación de 0.8 sugiere un sentimiento muy positivo hacia la entidad, mientras que una puntuación de -0.8 sugiere un sentimiento muy negativo."
   ]
  },
  {
   "cell_type": "markdown",
   "metadata": {},
   "source": [
    "***Análisis Completo (Entidades, Sentimiento, Sintaxis):***"
   ]
  },
  {
   "cell_type": "code",
   "execution_count": 8,
   "metadata": {},
   "outputs": [
    {
     "name": "stdout",
     "output_type": "stream",
     "text": [
      "Sentiment: 0.6000000238418579, 0.6000000238418579\n",
      "Entity: Google Cloud Natural Language API, Type: 7, Salience: 0.5034075379371643\n",
      "Entity: text, Type: 7, Salience: 0.4965924620628357\n",
      "Token: Google, Part of Speech: NOUN\n",
      "Token: Cloud, Part of Speech: NOUN\n",
      "Token: Natural, Part of Speech: NOUN\n",
      "Token: Language, Part of Speech: NOUN\n",
      "Token: API, Part of Speech: NOUN\n",
      "Token: is, Part of Speech: VERB\n",
      "Token: useful, Part of Speech: ADJ\n",
      "Token: for, Part of Speech: ADP\n",
      "Token: analyzing, Part of Speech: VERB\n",
      "Token: text, Part of Speech: NOUN\n",
      "Token: ., Part of Speech: PUNCT\n"
     ]
    }
   ],
   "source": [
    "from google.cloud import language_v1\n",
    "\n",
    "def analyze_text(text):\n",
    "    client = language_v1.LanguageServiceClient()\n",
    "    document = language_v1.Document(content=text, type_=language_v1.Document.Type.PLAIN_TEXT)\n",
    "    \n",
    "    # Analyze sentiment\n",
    "    sentiment_response = client.analyze_sentiment(document=document)\n",
    "    print(f\"Sentiment: {sentiment_response.document_sentiment.score}, {sentiment_response.document_sentiment.magnitude}\")\n",
    "    \n",
    "    # Analyze entities\n",
    "    entity_response = client.analyze_entities(document=document)\n",
    "    for entity in entity_response.entities:\n",
    "        print(f\"Entity: {entity.name}, Type: {entity.type_}, Salience: {entity.salience}\")\n",
    "    \n",
    "    # Analyze syntax\n",
    "    syntax_response = client.analyze_syntax(document=document)\n",
    "    for token in syntax_response.tokens:\n",
    "        print(f\"Token: {token.text.content}, Part of Speech: {token.part_of_speech.tag.name}\")\n",
    "\n",
    "analyze_text(\"Google Cloud Natural Language API is useful for analyzing text.\")"
   ]
  }
 ],
 "metadata": {
  "kernelspec": {
   "display_name": "venv",
   "language": "python",
   "name": "python3"
  },
  "language_info": {
   "codemirror_mode": {
    "name": "ipython",
    "version": 3
   },
   "file_extension": ".py",
   "mimetype": "text/x-python",
   "name": "python",
   "nbconvert_exporter": "python",
   "pygments_lexer": "ipython3",
   "version": "3.9.13"
  }
 },
 "nbformat": 4,
 "nbformat_minor": 2
}
